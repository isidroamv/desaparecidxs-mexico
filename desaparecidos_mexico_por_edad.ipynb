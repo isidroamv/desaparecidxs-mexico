{
 "cells": [
  {
   "cell_type": "markdown",
   "metadata": {},
   "source": [
    "# Desaparecidos en México por edad"
   ]
  },
  {
   "cell_type": "code",
   "execution_count": 1,
   "metadata": {
    "collapsed": true
   },
   "outputs": [],
   "source": [
    "import pandas as pd\n",
    "import matplotlib.pyplot as plt\n",
    "import numpy as np"
   ]
  },
  {
   "cell_type": "code",
   "execution_count": 2,
   "metadata": {
    "collapsed": true
   },
   "outputs": [],
   "source": [
    "df = pd.read_csv('report_12_01_2018_2.csv')"
   ]
  },
  {
   "cell_type": "code",
   "execution_count": 3,
   "metadata": {
    "collapsed": true
   },
   "outputs": [],
   "source": [
    "df['fuerocomun_edad'] = pd.to_numeric(df['fuerocomun_edad'], errors='signed')\n",
    "is_feamale = df['fuerocomun_sexo'] == 'MUJER'\n",
    "is_male = df['fuerocomun_sexo'] == 'HOMBRE'"
   ]
  },
  {
   "cell_type": "code",
   "execution_count": 4,
   "metadata": {
    "collapsed": true
   },
   "outputs": [],
   "source": [
    "def group_age(data):\n",
    "\n",
    "    d = {\n",
    "        'baby': 0,\n",
    "        'child': 0,\n",
    "        'teen': 0,\n",
    "        'adult': 0,\n",
    "        'adult2': 0,\n",
    "        'old': 0 \n",
    "    }\n",
    "\n",
    "    for key_val in data.iteritems():\n",
    "        age = key_val[0]\n",
    "        value = key_val[1]\n",
    "\n",
    "        if age < 1:\n",
    "            d['baby'] += value\n",
    "        \n",
    "        if age > 1 and age < 10:\n",
    "            d['child'] += value\n",
    "        \n",
    "        if age > 9 and age < 19:\n",
    "            d['teen'] += value\n",
    "\n",
    "        if age > 18 and age <= 30:\n",
    "            d['adult'] += value\n",
    "        \n",
    "        if age > 30 and age <= 45:\n",
    "            d['adult2'] += value\n",
    "\n",
    "        if age > 45:\n",
    "            d['old'] += value\n",
    "    values = []\n",
    "    for e in d:\n",
    "        values.append(d[e])\n",
    "\n",
    "    return values\n"
   ]
  },
  {
   "cell_type": "code",
   "execution_count": 5,
   "metadata": {
    "collapsed": true
   },
   "outputs": [],
   "source": [
    "female_fuerocomun_edad = df[is_feamale]['fuerocomun_edad'].value_counts()\n",
    "male_fuerocomun_edad = df[is_male]['fuerocomun_edad'].value_counts()\n",
    "female_data = group_age(female_fuerocomun_edad)\n",
    "male_data = group_age(male_fuerocomun_edad)\n",
    "\n",
    "\n",
    "label = []\n",
    "label.append(\"Niños\\n1<\")\n",
    "label.append(\"Niños\\n>1 y <=9\")\n",
    "label.append(\"Jóvenes\\n>9 y <=18\")\n",
    "label.append(\"Jóven Adulto\\n>18 y <=30\")\n",
    "label.append(\"Adulto\\n>30 y <=45 \")\n",
    "label.append(\"Adulto Mayor\\n>45\")\n"
   ]
  },
  {
   "cell_type": "code",
   "execution_count": 8,
   "metadata": {},
   "outputs": [
    {
     "data": {
      "image/png": "[encoded data removed]",
      "text/plain": [
       "<matplotlib.figure.Figure at 0x1114c8080>"
      ]
     },
     "metadata": {},
     "output_type": "display_data"
    }
   ],
   "source": [
    "N = len(label)\n",
    "men_std = (2, 3, 4, 1, 2)\n",
    "\n",
    "ind = np.arange(N)  # the x locations for the groups\n",
    "width = 0.35       # the width of the bars\n",
    "\n",
    "fig, ax = plt.subplots()\n",
    "rects1 = ax.bar(ind, female_data, width, color='#C2185B')\n",
    "\n",
    "women_std = (3, 5, 2, 3, 3)\n",
    "rects2 = ax.bar(ind + width, male_data, width, color='#448AFF')\n",
    "\n",
    "# add some text for labels, title and axes ticks\n",
    "ax.set_title('Desaparecidxs en México por edad')\n",
    "ax.set_xticks(ind + width / 2)\n",
    "ax.set_xticklabels(label)\n",
    "\n",
    "ax.legend((rects1, rects2), ('Mujeres', 'Hombres'))\n",
    "\n",
    "plt.show()"
   ]
  },
  {
   "cell_type": "code",
   "execution_count": null,
   "metadata": {
    "collapsed": true
   },
   "outputs": [],
   "source": []
  }
 ],
 "metadata": {
  "kernelspec": {
   "display_name": "Python 3",
   "language": "python",
   "name": "python3"
  },
  "language_info": {
   "codemirror_mode": {
    "name": "ipython",
    "version": 3
   },
   "file_extension": ".py",
   "mimetype": "text/x-python",
   "name": "python",
   "nbconvert_exporter": "python",
   "pygments_lexer": "ipython3",
   "version": "3.6.2"
  }
 },
 "nbformat": 4,
 "nbformat_minor": 2
}
