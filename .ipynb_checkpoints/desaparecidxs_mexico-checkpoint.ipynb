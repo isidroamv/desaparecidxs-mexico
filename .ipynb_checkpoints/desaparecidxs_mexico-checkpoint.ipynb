{
 "cells": [
  {
   "cell_type": "markdown",
   "metadata": {},
   "source": [
    "# Reporte de desaparecido en México por estado"
   ]
  },
  {
   "cell_type": "code",
   "execution_count": 5,
   "metadata": {
    "collapsed": true
   },
   "outputs": [],
   "source": [
    "import pandas as pd\n",
    "import json\n",
    "import unidecode\n",
    "\n",
    "df = pd.read_csv('report_12_01_2018_2.csv')\n",
    "state_codes = json.load(open('mexico_code.json'))\n"
   ]
  },
  {
   "cell_type": "code",
   "execution_count": 2,
   "metadata": {
    "collapsed": true
   },
   "outputs": [],
   "source": [
    "state_count = df['fuerocomun_desapentidad'].value_counts()\n",
    "d = {'name': [], 'code': [], 'value': []}"
   ]
  },
  {
   "cell_type": "code",
   "execution_count": 3,
   "metadata": {
    "collapsed": true
   },
   "outputs": [],
   "source": [
    "for key_val in state_count.iteritems():\n",
    "    name = key_val[0]\n",
    "    code = '0000'\n",
    "    d['name'].append(name)\n",
    "    d['value'].append(key_val[1])\n",
    "\n",
    "    for state_code in state_codes:\n",
    "        state_name = unidecode.unidecode(state_code['name']).lower()\n",
    "        if state_name in name.lower():\n",
    "            code = state_code['code']\n",
    "    d['code'].append(code)\n"
   ]
  },
  {
   "cell_type": "code",
   "execution_count": 4,
   "metadata": {},
   "outputs": [
    {
     "name": "stdout",
     "output_type": "stream",
     "text": [
      "state_count       code                  name  value\n",
      "0   MX-TAM            TAMAULIPAS   5867\n",
      "1   MX-MEX      ESTADO DE MEXICO   4480\n",
      "2   MX-SIN               SINALOA   3161\n",
      "3   MX-JAL               JALISCO   2978\n",
      "4   MX-NLE            NUEVO LEON   2598\n",
      "5   MX-CHH             CHIHUAHUA   2111\n",
      "6   MX-PUE                PUEBLA   1780\n",
      "7   MX-COA  COAHUILA DE ZARAGOZA   1617\n",
      "8   MX-GRO              GUERRERO   1426\n",
      "9   MX-SON                SONORA   1289\n",
      "10  MX-MIC             MICHOACAN   1049\n",
      "11  MX-BCN       BAJA CALIFORNIA   1021\n",
      "12  MX-MEX      CIUDAD DE MEXICO    730\n",
      "13  MX-GUA            GUANAJUATO    692\n",
      "14  MX-VER              VERACRUZ    523\n",
      "15  MX-ZAC             ZACATECAS    522\n",
      "16  MX-DUR               DURANGO    404\n",
      "17  MX-QUE             QUERETARO    380\n",
      "18  MX-COL                COLIMA    311\n",
      "19  MX-MOR               MORELOS    284\n",
      "20  MX-AGU        AGUASCALIENTES    212\n",
      "21  MX-HID               HIDALGO    179\n",
      "22  MX-NAY               NAYARIT    143\n",
      "23  MX-OAX                OAXACA    127\n",
      "24  MX-SLP       SAN LUIS POTOSI     94\n",
      "25  MX-CHP               CHIAPAS     90\n",
      "26  MX-YUC               YUCATAN     88\n",
      "27  MX-ROO          QUINTANA ROO     79\n",
      "28  MX-TAB               TABASCO     67\n",
      "29  MX-CAM              CAMPECHE     43\n",
      "30  MX-BCS   BAJA CALIFORNIA SUR     39\n",
      "31    0000       NO ESPECIFICADO     33\n",
      "32  MX-TLA              TLAXCALA     24\n"
     ]
    }
   ],
   "source": [
    "state_count = pd.DataFrame(data=d)\n",
    "print(\"state_count\", state_count)\n",
    "state_count.to_json('state.json', orient='records')"
   ]
  },
  {
   "cell_type": "code",
   "execution_count": null,
   "metadata": {
    "collapsed": true
   },
   "outputs": [],
   "source": []
  }
 ],
 "metadata": {
  "kernelspec": {
   "display_name": "Python 3",
   "language": "python",
   "name": "python3"
  },
  "language_info": {
   "codemirror_mode": {
    "name": "ipython",
    "version": 3
   },
   "file_extension": ".py",
   "mimetype": "text/x-python",
   "name": "python",
   "nbconvert_exporter": "python",
   "pygments_lexer": "ipython3",
   "version": "3.6.2"
  }
 },
 "nbformat": 4,
 "nbformat_minor": 2
}
